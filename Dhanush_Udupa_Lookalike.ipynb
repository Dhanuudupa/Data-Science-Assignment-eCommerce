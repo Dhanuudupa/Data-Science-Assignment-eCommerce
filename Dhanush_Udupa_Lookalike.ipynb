{
 "cells": [
  {
   "cell_type": "markdown",
   "id": "cfae9e3c",
   "metadata": {},
   "source": [
    "### Task 2: Lookalike Model"
   ]
  },
  {
   "cell_type": "code",
   "execution_count": 1,
   "id": "eddbdaeb",
   "metadata": {},
   "outputs": [],
   "source": [
    "import pandas as pd\n",
    "import numpy as np\n",
    "import seaborn as sns\n",
    "import matplotlib.pyplot as plt"
   ]
  },
  {
   "cell_type": "code",
   "execution_count": 2,
   "id": "0d01cc39",
   "metadata": {},
   "outputs": [],
   "source": [
    "customers_df = pd.read_csv(r'C:\\Users\\Bhatta\\Downloads\\Customers.csv')\n",
    "products_df = pd.read_csv(r'C:\\Users\\Bhatta\\Downloads\\Products.csv')\n",
    "transactions_df =  pd.read_csv(r'C:\\Users\\Bhatta\\Downloads\\Transactions.csv')"
   ]
  },
  {
   "cell_type": "code",
   "execution_count": 3,
   "id": "41b894d6",
   "metadata": {},
   "outputs": [],
   "source": [
    "from sklearn.preprocessing import StandardScaler, OneHotEncoder\n",
    "from sklearn.compose import ColumnTransformer\n",
    "from sklearn.metrics.pairwise import cosine_similarity"
   ]
  },
  {
   "cell_type": "code",
   "execution_count": 4,
   "id": "e19c6211",
   "metadata": {},
   "outputs": [],
   "source": [
    "# Step 2: Merge Data\n",
    "transactions_products = pd.merge(transactions_df, products_df, on=\"ProductID\")\n",
    "full_data = pd.merge(transactions_products, customers_df, on=\"CustomerID\")"
   ]
  },
  {
   "cell_type": "code",
   "execution_count": 5,
   "id": "ecc010ed",
   "metadata": {},
   "outputs": [],
   "source": [
    "# Step 3: Feature Engineering\n",
    "customer_features = full_data.groupby(\"CustomerID\").agg(\n",
    "    TotalSpending=(\"TotalValue\", \"sum\"),\n",
    "    PurchaseFrequency=(\"TransactionID\", \"count\"),\n",
    "    AvgTransactionValue=(\"TotalValue\", \"mean\"),\n",
    "    PreferredCategory=(\"Category\", lambda x: x.mode()[0]),  # Most purchased category\n",
    ").reset_index()"
   ]
  },
  {
   "cell_type": "code",
   "execution_count": 6,
   "id": "01f41ce1",
   "metadata": {},
   "outputs": [],
   "source": [
    "# Include Region from the Customers data\n",
    "customer_features = pd.merge(customer_features, customers_df[[\"CustomerID\", \"Region\"]], on=\"CustomerID\")"
   ]
  },
  {
   "cell_type": "code",
   "execution_count": 7,
   "id": "8e9da6d4",
   "metadata": {},
   "outputs": [],
   "source": [
    "# Step 4: Preprocessing\n",
    "categorical_features = [\"PreferredCategory\", \"Region\"]\n",
    "numerical_features = [\"TotalSpending\", \"PurchaseFrequency\", \"AvgTransactionValue\"]"
   ]
  },
  {
   "cell_type": "code",
   "execution_count": 8,
   "id": "0b621989",
   "metadata": {},
   "outputs": [],
   "source": [
    "# One-hot encoding for categorical features and scaling for numerical features\n",
    "preprocessor = ColumnTransformer(\n",
    "    transformers=[\n",
    "        (\"num\", StandardScaler(), numerical_features),\n",
    "        (\"cat\", OneHotEncoder(), categorical_features),])"
   ]
  },
  {
   "cell_type": "code",
   "execution_count": 9,
   "id": "240f6fc4",
   "metadata": {},
   "outputs": [],
   "source": [
    "# Apply the transformations\n",
    "customer_features_transformed = preprocessor.fit_transform(customer_features)"
   ]
  },
  {
   "cell_type": "code",
   "execution_count": 10,
   "id": "13813747",
   "metadata": {},
   "outputs": [],
   "source": [
    "encoded_columns = (\n",
    "    numerical_features + list(preprocessor.named_transformers_[\"cat\"].get_feature_names_out(categorical_features))\n",
    ")\n",
    "customer_features_encoded = pd.DataFrame(\n",
    "    customer_features_transformed, columns=encoded_columns, index=customer_features[\"CustomerID\"]\n",
    ")"
   ]
  },
  {
   "cell_type": "code",
   "execution_count": 11,
   "id": "fc1783be",
   "metadata": {},
   "outputs": [],
   "source": [
    "# Step 5: Compute Similarity\n",
    "similarity_matrix = cosine_similarity(customer_features_encoded)\n",
    "similarity_df = pd.DataFrame(\n",
    "    similarity_matrix, index=customer_features[\"CustomerID\"], columns=customer_features[\"CustomerID\"]\n",
    ")"
   ]
  },
  {
   "cell_type": "code",
   "execution_count": 12,
   "id": "5564f0d7",
   "metadata": {},
   "outputs": [],
   "source": [
    "# Step 6: Generate Recommendations\n",
    "lookalike_map = {}\n",
    "for cust_id in customer_features[\"CustomerID\"][:20]:  # First 20 customers (C0001 - C0020)\n",
    "    scores = similarity_df.loc[cust_id]\n",
    "    top_similar = scores[scores.index != cust_id].nlargest(3)  # Top 3 similar customers\n",
    "    lookalike_map[cust_id] = list(zip(top_similar.index, top_similar.values))"
   ]
  },
  {
   "cell_type": "code",
   "execution_count": 17,
   "id": "0eb78661",
   "metadata": {},
   "outputs": [],
   "source": [
    "lookalike_df = pd.DataFrame.from_dict(lookalike_map, orient=\"index\")\n",
    "lookalike_df.to_csv(\"Dhanush_Udupa_Lookalike.csv\", header=False)"
   ]
  },
  {
   "cell_type": "code",
   "execution_count": 14,
   "id": "d79abb4c",
   "metadata": {},
   "outputs": [
    {
     "name": "stdout",
     "output_type": "stream",
     "text": [
      "Lookalike Map for Customers C0001 - C0020:\n",
      "{'C0001': [('C0190', 0.968215451295126), ('C0048', 0.9410720811249149), ('C0181', 0.9090457490236504)], 'C0002': [('C0088', 0.9663574397998078), ('C0134', 0.9417092227435143), ('C0106', 0.897417999902512)], 'C0003': [('C0052', 0.9847977904024425), ('C0152', 0.9262643125643458), ('C0031', 0.8908812314103669)], 'C0004': [('C0165', 0.9711437718179058), ('C0155', 0.9620829055324883), ('C0169', 0.8873437226586512)], 'C0005': [('C0186', 0.9787905419345101), ('C0146', 0.9598508342465527), ('C0007', 0.9047531872453538)], 'C0006': [('C0168', 0.9732537429499296), ('C0171', 0.9513382554181677), ('C0187', 0.9447449444739173)], 'C0007': [('C0140', 0.9764156563035168), ('C0115', 0.9342226712579291), ('C0005', 0.9047531872453538)], 'C0008': [('C0109', 0.8700104206236069), ('C0139', 0.8117685282119976), ('C0098', 0.7892991816476466)], 'C0009': [('C0010', 0.9760669630706748), ('C0198', 0.9520351377564203), ('C0062', 0.9308169602315751)], 'C0010': [('C0009', 0.9760669630706748), ('C0111', 0.9708504756032534), ('C0103', 0.9552968720724648)], 'C0011': [('C0137', 0.9611944701177748), ('C0169', 0.9203951647051838), ('C0126', 0.9178664272707295)], 'C0012': [('C0104', 0.9659896786844346), ('C0113', 0.9266666313281656), ('C0195', 0.907840343168503)], 'C0013': [('C0099', 0.9855644363688847), ('C0108', 0.9198465159324428), ('C0141', 0.8387719059266356)], 'C0014': [('C0060', 0.9763044912298495), ('C0151', 0.9084845085220972), ('C0097', 0.9035777546704962)], 'C0015': [('C0036', 0.980365127065939), ('C0131', 0.9746260478193932), ('C0058', 0.8355728389274786)], 'C0016': [('C0183', 0.9998750016492791), ('C0067', 0.9168655516177493), ('C0042', 0.7522632809302456)], 'C0017': [('C0075', 0.9694478848397573), ('C0081', 0.8567347350005199), ('C0057', 0.8453541123524987)], 'C0018': [('C0117', 0.947351865308591), ('C0185', 0.8362687678528234), ('C0046', 0.8257522302304171)], 'C0019': [('C0121', 0.902523629526074), ('C0081', 0.83132258252199), ('C0119', 0.7808868770746169)], 'C0020': [('C0050', 0.8471955082476953), ('C0140', 0.8359805626087087), ('C0130', 0.7625116428321821)]}\n"
     ]
    }
   ],
   "source": [
    "# Output\n",
    "print(\"Lookalike Map for Customers C0001 - C0020:\")\n",
    "print(lookalike_map)"
   ]
  },
  {
   "cell_type": "code",
   "execution_count": 15,
   "id": "1a16e9bd",
   "metadata": {},
   "outputs": [],
   "source": [
    "lookalike_map_df1=pd.DataFrame(lookalike_map)"
   ]
  },
  {
   "cell_type": "code",
   "execution_count": 16,
   "id": "3b768ffe",
   "metadata": {},
   "outputs": [
    {
     "data": {
      "text/html": [
       "<div>\n",
       "<style scoped>\n",
       "    .dataframe tbody tr th:only-of-type {\n",
       "        vertical-align: middle;\n",
       "    }\n",
       "\n",
       "    .dataframe tbody tr th {\n",
       "        vertical-align: top;\n",
       "    }\n",
       "\n",
       "    .dataframe thead th {\n",
       "        text-align: right;\n",
       "    }\n",
       "</style>\n",
       "<table border=\"1\" class=\"dataframe\">\n",
       "  <thead>\n",
       "    <tr style=\"text-align: right;\">\n",
       "      <th></th>\n",
       "      <th>C0001</th>\n",
       "      <th>C0002</th>\n",
       "      <th>C0003</th>\n",
       "      <th>C0004</th>\n",
       "      <th>C0005</th>\n",
       "      <th>C0006</th>\n",
       "      <th>C0007</th>\n",
       "      <th>C0008</th>\n",
       "      <th>C0009</th>\n",
       "      <th>C0010</th>\n",
       "      <th>C0011</th>\n",
       "      <th>C0012</th>\n",
       "      <th>C0013</th>\n",
       "      <th>C0014</th>\n",
       "      <th>C0015</th>\n",
       "      <th>C0016</th>\n",
       "      <th>C0017</th>\n",
       "      <th>C0018</th>\n",
       "      <th>C0019</th>\n",
       "      <th>C0020</th>\n",
       "    </tr>\n",
       "  </thead>\n",
       "  <tbody>\n",
       "    <tr>\n",
       "      <th>0</th>\n",
       "      <td>(C0190, 0.968215451295126)</td>\n",
       "      <td>(C0088, 0.9663574397998078)</td>\n",
       "      <td>(C0052, 0.9847977904024425)</td>\n",
       "      <td>(C0165, 0.9711437718179058)</td>\n",
       "      <td>(C0186, 0.9787905419345101)</td>\n",
       "      <td>(C0168, 0.9732537429499296)</td>\n",
       "      <td>(C0140, 0.9764156563035168)</td>\n",
       "      <td>(C0109, 0.8700104206236069)</td>\n",
       "      <td>(C0010, 0.9760669630706748)</td>\n",
       "      <td>(C0009, 0.9760669630706748)</td>\n",
       "      <td>(C0137, 0.9611944701177748)</td>\n",
       "      <td>(C0104, 0.9659896786844346)</td>\n",
       "      <td>(C0099, 0.9855644363688847)</td>\n",
       "      <td>(C0060, 0.9763044912298495)</td>\n",
       "      <td>(C0036, 0.980365127065939)</td>\n",
       "      <td>(C0183, 0.9998750016492791)</td>\n",
       "      <td>(C0075, 0.9694478848397573)</td>\n",
       "      <td>(C0117, 0.947351865308591)</td>\n",
       "      <td>(C0121, 0.902523629526074)</td>\n",
       "      <td>(C0050, 0.8471955082476953)</td>\n",
       "    </tr>\n",
       "    <tr>\n",
       "      <th>1</th>\n",
       "      <td>(C0048, 0.9410720811249149)</td>\n",
       "      <td>(C0134, 0.9417092227435143)</td>\n",
       "      <td>(C0152, 0.9262643125643458)</td>\n",
       "      <td>(C0155, 0.9620829055324883)</td>\n",
       "      <td>(C0146, 0.9598508342465527)</td>\n",
       "      <td>(C0171, 0.9513382554181677)</td>\n",
       "      <td>(C0115, 0.9342226712579291)</td>\n",
       "      <td>(C0139, 0.8117685282119976)</td>\n",
       "      <td>(C0198, 0.9520351377564203)</td>\n",
       "      <td>(C0111, 0.9708504756032534)</td>\n",
       "      <td>(C0169, 0.9203951647051838)</td>\n",
       "      <td>(C0113, 0.9266666313281656)</td>\n",
       "      <td>(C0108, 0.9198465159324428)</td>\n",
       "      <td>(C0151, 0.9084845085220972)</td>\n",
       "      <td>(C0131, 0.9746260478193932)</td>\n",
       "      <td>(C0067, 0.9168655516177493)</td>\n",
       "      <td>(C0081, 0.8567347350005199)</td>\n",
       "      <td>(C0185, 0.8362687678528234)</td>\n",
       "      <td>(C0081, 0.83132258252199)</td>\n",
       "      <td>(C0140, 0.8359805626087087)</td>\n",
       "    </tr>\n",
       "    <tr>\n",
       "      <th>2</th>\n",
       "      <td>(C0181, 0.9090457490236504)</td>\n",
       "      <td>(C0106, 0.897417999902512)</td>\n",
       "      <td>(C0031, 0.8908812314103669)</td>\n",
       "      <td>(C0169, 0.8873437226586512)</td>\n",
       "      <td>(C0007, 0.9047531872453538)</td>\n",
       "      <td>(C0187, 0.9447449444739173)</td>\n",
       "      <td>(C0005, 0.9047531872453538)</td>\n",
       "      <td>(C0098, 0.7892991816476466)</td>\n",
       "      <td>(C0062, 0.9308169602315751)</td>\n",
       "      <td>(C0103, 0.9552968720724648)</td>\n",
       "      <td>(C0126, 0.9178664272707295)</td>\n",
       "      <td>(C0195, 0.907840343168503)</td>\n",
       "      <td>(C0141, 0.8387719059266356)</td>\n",
       "      <td>(C0097, 0.9035777546704962)</td>\n",
       "      <td>(C0058, 0.8355728389274786)</td>\n",
       "      <td>(C0042, 0.7522632809302456)</td>\n",
       "      <td>(C0057, 0.8453541123524987)</td>\n",
       "      <td>(C0046, 0.8257522302304171)</td>\n",
       "      <td>(C0119, 0.7808868770746169)</td>\n",
       "      <td>(C0130, 0.7625116428321821)</td>\n",
       "    </tr>\n",
       "  </tbody>\n",
       "</table>\n",
       "</div>"
      ],
      "text/plain": [
       "                         C0001                        C0002  \\\n",
       "0   (C0190, 0.968215451295126)  (C0088, 0.9663574397998078)   \n",
       "1  (C0048, 0.9410720811249149)  (C0134, 0.9417092227435143)   \n",
       "2  (C0181, 0.9090457490236504)   (C0106, 0.897417999902512)   \n",
       "\n",
       "                         C0003                        C0004  \\\n",
       "0  (C0052, 0.9847977904024425)  (C0165, 0.9711437718179058)   \n",
       "1  (C0152, 0.9262643125643458)  (C0155, 0.9620829055324883)   \n",
       "2  (C0031, 0.8908812314103669)  (C0169, 0.8873437226586512)   \n",
       "\n",
       "                         C0005                        C0006  \\\n",
       "0  (C0186, 0.9787905419345101)  (C0168, 0.9732537429499296)   \n",
       "1  (C0146, 0.9598508342465527)  (C0171, 0.9513382554181677)   \n",
       "2  (C0007, 0.9047531872453538)  (C0187, 0.9447449444739173)   \n",
       "\n",
       "                         C0007                        C0008  \\\n",
       "0  (C0140, 0.9764156563035168)  (C0109, 0.8700104206236069)   \n",
       "1  (C0115, 0.9342226712579291)  (C0139, 0.8117685282119976)   \n",
       "2  (C0005, 0.9047531872453538)  (C0098, 0.7892991816476466)   \n",
       "\n",
       "                         C0009                        C0010  \\\n",
       "0  (C0010, 0.9760669630706748)  (C0009, 0.9760669630706748)   \n",
       "1  (C0198, 0.9520351377564203)  (C0111, 0.9708504756032534)   \n",
       "2  (C0062, 0.9308169602315751)  (C0103, 0.9552968720724648)   \n",
       "\n",
       "                         C0011                        C0012  \\\n",
       "0  (C0137, 0.9611944701177748)  (C0104, 0.9659896786844346)   \n",
       "1  (C0169, 0.9203951647051838)  (C0113, 0.9266666313281656)   \n",
       "2  (C0126, 0.9178664272707295)   (C0195, 0.907840343168503)   \n",
       "\n",
       "                         C0013                        C0014  \\\n",
       "0  (C0099, 0.9855644363688847)  (C0060, 0.9763044912298495)   \n",
       "1  (C0108, 0.9198465159324428)  (C0151, 0.9084845085220972)   \n",
       "2  (C0141, 0.8387719059266356)  (C0097, 0.9035777546704962)   \n",
       "\n",
       "                         C0015                        C0016  \\\n",
       "0   (C0036, 0.980365127065939)  (C0183, 0.9998750016492791)   \n",
       "1  (C0131, 0.9746260478193932)  (C0067, 0.9168655516177493)   \n",
       "2  (C0058, 0.8355728389274786)  (C0042, 0.7522632809302456)   \n",
       "\n",
       "                         C0017                        C0018  \\\n",
       "0  (C0075, 0.9694478848397573)   (C0117, 0.947351865308591)   \n",
       "1  (C0081, 0.8567347350005199)  (C0185, 0.8362687678528234)   \n",
       "2  (C0057, 0.8453541123524987)  (C0046, 0.8257522302304171)   \n",
       "\n",
       "                         C0019                        C0020  \n",
       "0   (C0121, 0.902523629526074)  (C0050, 0.8471955082476953)  \n",
       "1    (C0081, 0.83132258252199)  (C0140, 0.8359805626087087)  \n",
       "2  (C0119, 0.7808868770746169)  (C0130, 0.7625116428321821)  "
      ]
     },
     "execution_count": 16,
     "metadata": {},
     "output_type": "execute_result"
    }
   ],
   "source": [
    "lookalike_map_df1"
   ]
  },
  {
   "cell_type": "code",
   "execution_count": null,
   "id": "1f7e350d",
   "metadata": {},
   "outputs": [],
   "source": []
  }
 ],
 "metadata": {
  "kernelspec": {
   "display_name": "Python 3 (ipykernel)",
   "language": "python",
   "name": "python3"
  },
  "language_info": {
   "codemirror_mode": {
    "name": "ipython",
    "version": 3
   },
   "file_extension": ".py",
   "mimetype": "text/x-python",
   "name": "python",
   "nbconvert_exporter": "python",
   "pygments_lexer": "ipython3",
   "version": "3.10.9"
  }
 },
 "nbformat": 4,
 "nbformat_minor": 5
}
